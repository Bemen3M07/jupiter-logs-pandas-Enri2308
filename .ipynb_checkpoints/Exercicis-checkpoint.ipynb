{
 "cells": [
  {
   "cell_type": "markdown",
   "id": "98b68423-b7e0-4b62-bee6-36089cd40adb",
   "metadata": {},
   "source": [
    "Exercici 1\n",
    "\n",
    "1- Amb les teves pròpies paraules, podries explicar que es,?\n",
    "a. Jupyter: Es una herramienta donde puedes escribir codigo, ver los resultados y añadir explicaciones todo en un solo lugar\n",
    "\n",
    "b. Anaconda: Es un programa que facilita trabajar con python, especialmente para ciencia de datos, ya que incluye muchas herramientas y bibliotecas de utiles\n",
    "\n",
    "c. Paquet logging:Es una forma de registrar lo que ocurre dentro de tu codigo, como errores o mensajes importantes, para entender mejor como esta funcionando "
   ]
  },
  {
   "cell_type": "markdown",
   "id": "e99da98a-084f-4553-a2ed-2be991afbd84",
   "metadata": {},
   "source": [
    "Exercici 2\n",
    "\n",
    "2- Per que creus que es necessari implementar un log en un programa? Raona la\n",
    "resposta i fica exemples del perquè ho creus (mínim 3 exemples)."
   ]
  },
  {
   "cell_type": "markdown",
   "id": "931e13cf-dff6-4264-bb6e-b9a705f8b9dc",
   "metadata": {},
   "source": [
    "Exercici 3\n",
    "\n",
    "Amb les teves paraules, explica que significa cada línia dels següents exemples de\n",
    "logging. CAL EXPLICAR LINEA A LINEA"
   ]
  },
  {
   "cell_type": "code",
   "execution_count": null,
   "id": "f121263b-6288-4d01-b61d-8b92a7665e11",
   "metadata": {},
   "outputs": [],
   "source": [
    "logging.basicConfig(format='%(asctime)s - %(message)s', level=logging.INFO)\n",
    "logging.info('Admin ha accedido')"
   ]
  },
  {
   "cell_type": "code",
   "execution_count": null,
   "id": "775025a2-c89b-473b-b5bd-61e3a823a51c",
   "metadata": {},
   "outputs": [],
   "source": [
    "f_handler = logging.fileHandler('file.log')"
   ]
  },
  {
   "cell_type": "code",
   "execution_count": null,
   "id": "eee4889f-7815-4009-a9e0-d9a01926b55c",
   "metadata": {},
   "outputs": [],
   "source": [
    "import logging\n",
    "\n",
    "logging.basicConfig(format='%(process)d-%(levelname)s-%(message)s')\n",
    "logging.warning('This is a Warning)"
   ]
  }
 ],
 "metadata": {
  "kernelspec": {
   "display_name": "Python 3 (ipykernel)",
   "language": "python",
   "name": "python3"
  },
  "language_info": {
   "codemirror_mode": {
    "name": "ipython",
    "version": 3
   },
   "file_extension": ".py",
   "mimetype": "text/x-python",
   "name": "python",
   "nbconvert_exporter": "python",
   "pygments_lexer": "ipython3",
   "version": "3.12.1"
  }
 },
 "nbformat": 4,
 "nbformat_minor": 5
}
