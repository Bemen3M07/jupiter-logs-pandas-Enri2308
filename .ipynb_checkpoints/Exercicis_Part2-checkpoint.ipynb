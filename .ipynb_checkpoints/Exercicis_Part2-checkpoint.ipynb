{
 "cells": [
  {
   "cell_type": "markdown",
   "id": "3dcd0aff-9764-482c-8912-104ccf569f86",
   "metadata": {},
   "source": [
    "Exercici 1"
   ]
  },
  {
   "cell_type": "markdown",
   "id": "a2f75607-130c-4c59-bc25-06f330ed917e",
   "metadata": {},
   "source": [
    "-Para ir viendo continuamente los logs que van escribiendo a un archivo se utiliza el comando \"tail\" y usando el -f sirve para seguir un archivo en tiempo real \n",
    "\n",
    "    Ejemplo \n",
    "\n",
    "tail -f nomArchivo.log\n",
    "\n",
    "-Para buscar una palabra concreta dentro de  un archivo log\n",
    "\n",
    "    ejemplo \n",
    "\n",
    "grep \"palabra\" nomArhivo.log"
   ]
  },
  {
   "cell_type": "code",
   "execution_count": null,
   "id": "88c89692-1758-4675-8573-f2a8f7c5c0d9",
   "metadata": {},
   "outputs": [],
   "source": []
  }
 ],
 "metadata": {
  "kernelspec": {
   "display_name": "Python 3 (ipykernel)",
   "language": "python",
   "name": "python3"
  },
  "language_info": {
   "codemirror_mode": {
    "name": "ipython",
    "version": 3
   },
   "file_extension": ".py",
   "mimetype": "text/x-python",
   "name": "python",
   "nbconvert_exporter": "python",
   "pygments_lexer": "ipython3",
   "version": "3.12.1"
  }
 },
 "nbformat": 4,
 "nbformat_minor": 5
}
