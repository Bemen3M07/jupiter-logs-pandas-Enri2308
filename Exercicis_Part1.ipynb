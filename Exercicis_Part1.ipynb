{
 "cells": [
  {
   "cell_type": "markdown",
   "id": "98b68423-b7e0-4b62-bee6-36089cd40adb",
   "metadata": {},
   "source": [
    "Exercici 1\n",
    "\n",
    "1- Amb les teves pròpies paraules, podries explicar que es,?\n",
    "a. Jupyter: Es una herramienta donde puedes escribir codigo, ver los resultados y añadir explicaciones todo en un solo lugar\n",
    "\n",
    "b. Anaconda: Es un programa que facilita trabajar con python, especialmente para ciencia de datos, ya que incluye muchas herramientas y bibliotecas de utiles\n",
    "\n",
    "c. Paquet logging:Es una forma de registrar lo que ocurre dentro de tu codigo, como errores o mensajes importantes, para entender mejor como esta funcionando "
   ]
  },
  {
   "cell_type": "markdown",
   "id": "e99da98a-084f-4553-a2ed-2be991afbd84",
   "metadata": {},
   "source": [
    "Exercici 2\n",
    "\n",
    "2- Per que creus que es necessari implementar un log en un programa? Raona la\n",
    "resposta i fica exemples del perquè ho creus (mínim 3 exemples).\n",
    "\n",
    "Implementar un log en un programa es importante por que permite hacer un seguimiento detallado de la ejecucion del codigo y facilita la deteccion de errores o comportamientos inesperados\n",
    "\n",
    "Ejemplos\n",
    "-Depurar errores\n",
    "-Monitorizacion de rendimiento \n",
    "-Registro de eventos importantes"
   ]
  },
  {
   "cell_type": "markdown",
   "id": "931e13cf-dff6-4264-bb6e-b9a705f8b9dc",
   "metadata": {},
   "source": [
    "Exercici 3\n",
    "\n",
    "Amb les teves paraules, explica que significa cada línia dels següents exemples de\n",
    "logging. CAL EXPLICAR LINEA A LINEA"
   ]
  },
  {
   "cell_type": "code",
   "execution_count": null,
   "id": "f121263b-6288-4d01-b61d-8b92a7665e11",
   "metadata": {},
   "outputs": [],
   "source": [
    "logging.basicConfig(format='%(asctime)s - %(message)s', level=logging.INFO)\n",
    "logging.info('Admin ha accedido')"
   ]
  },
  {
   "cell_type": "markdown",
   "id": "48cb9a68-ab23-4f72-971c-09af588b4148",
   "metadata": {},
   "source": [
    "Configura el formato de los logs con una fecha y un mensaje, estableciendo el nivel minimo en INFO"
   ]
  },
  {
   "cell_type": "code",
   "execution_count": null,
   "id": "775025a2-c89b-473b-b5bd-61e3a823a51c",
   "metadata": {},
   "outputs": [],
   "source": [
    "f_handler = logging.fileHandler('file.log')"
   ]
  },
  {
   "cell_type": "markdown",
   "id": "83b4e528-8a9b-479c-be8d-18276f91c6b7",
   "metadata": {},
   "source": [
    "Crea un handler para guardar los .log en un fichero llamado file.log"
   ]
  },
  {
   "cell_type": "code",
   "execution_count": null,
   "id": "eee4889f-7815-4009-a9e0-d9a01926b55c",
   "metadata": {},
   "outputs": [],
   "source": [
    "import logging\n",
    "\n",
    "logging.basicConfig(format='%(process)d-%(levelname)s-%(message)s')\n",
    "logging.warning('This is a Warning)"
   ]
  },
  {
   "cell_type": "markdown",
   "id": "0886bce5-2b0e-40c6-94e0-8b4b3b785209",
   "metadata": {},
   "source": [
    "Configura el formato del log y el id de proceso el nivel y el mensage\n",
    "Registra un mensaje de tipo advertencia (Warning)"
   ]
  },
  {
   "cell_type": "markdown",
   "id": "dba7856e-937f-4ccb-b916-7dff9e3979ff",
   "metadata": {},
   "source": [
    "Exercici 4\n",
    "A partir del següent codi creat amb JUPYTER explica resumidament el que fa cada BLOC.\n",
    "No cal explicar línia per línia, sinó que pot ser de forma general, però si amb\n",
    "certa coherència.\n",
    "Taula d’exemple"
   ]
  },
  {
   "attachments": {
    "20087b9b-57e7-41b0-964a-80e52070b060.png": {
     "image/png": "[encoded data removed]"
    }
   },
   "cell_type": "markdown",
   "id": "a197b91d-d511-4360-b284-b8355472dece",
   "metadata": {},
   "source": [
    "![Tabla.png](attachment:20087b9b-57e7-41b0-964a-80e52070b060.png)"
   ]
  },
  {
   "cell_type": "code",
   "execution_count": null,
   "id": "f17c5bb9-b863-41d3-aabd-8cfde31be0d9",
   "metadata": {},
   "outputs": [],
   "source": [
    "1.\n",
    "In [9] notas [[\"M01\", \"M02\", \"M03\", \"M04\", \"M05\"]].mean()"
   ]
  },
  {
   "cell_type": "markdown",
   "id": "d4f1aa99-a3e1-4031-aa9e-0d56e97d6916",
   "metadata": {},
   "source": [
    "El codigo intenta calcularla media de las notas M01, M02, M03, M04, M05 en una lista de datos (pero el .mean no se puede aplicar por que no se puede usar en una lista de cadenas)"
   ]
  },
  {
   "cell_type": "code",
   "execution_count": null,
   "id": "9f693877-4b9a-4309-899d-2da070e6b476",
   "metadata": {},
   "outputs": [],
   "source": [
    "2.\n",
    "notas.groupby('Alumno', as_index=False)[\"M01\", \"M02\", \"M03\", \"M04\", \"M05\"].mean()"
   ]
  },
  {
   "cell_type": "markdown",
   "id": "19df7331-c960-4f95-a481-499837ccf750",
   "metadata": {},
   "source": [
    "El codigo agrupa los datos de alumno i calcula la media de las notas \"M01\", \"M02\", \"M03\", \"M04\", \"M05\" para cada alumno, groupbu permite agrupar por un criterio y mean calcula la media "
   ]
  },
  {
   "cell_type": "code",
   "execution_count": null,
   "id": "09f12f7d-c872-4202-9732-e10e7375f2b0",
   "metadata": {},
   "outputs": [],
   "source": [
    "\n",
    "3.\n",
    "in[7]: notas.plot(x=\"Alumno\", y=[\"M01\", \"M02\"])\n",
    "        plt.rcParams[\"figure.figsize\"] = (10,5)\n",
    "        plt.show()\n"
   ]
  },
  {
   "cell_type": "markdown",
   "id": "27661733-3eec-44ea-a5e0-c93a5c5a6be5",
   "metadata": {},
   "source": [
    "El codigo crea un grafico con los datos del dataframe notas "
   ]
  },
  {
   "cell_type": "code",
   "execution_count": null,
   "id": "80d89623-69a6-4777-8e31-b98c5c8fa27d",
   "metadata": {},
   "outputs": [],
   "source": [
    "4.\n",
    "int[10]: notas[[\"M01\", \"M02\", \"M03\", \"M04\", \"M05\"]].mean(axis=1)"
   ]
  },
  {
   "cell_type": "markdown",
   "id": "35ed7046-bfc1-42e6-b607-1cde66d0c46d",
   "metadata": {},
   "source": [
    "Este codigo calcula el promedio de las notas de los modulos M01, M02, M03, M04 y M05 para cada alumno en el DataFrame notas"
   ]
  },
  {
   "cell_type": "code",
   "execution_count": null,
   "id": "04efb8cc-430f-4ce2-8981-e50a05c3f7a6",
   "metadata": {},
   "outputs": [],
   "source": [
    "5.\n",
    "in[125]: x_values=notas[\"Alumno\"]\n",
    "        y_values=notas[\"M02\"]\n",
    "        plt.plot(x_values, y_values, color=\"red\")\n",
    "        plt.legend([\"M02\"])\n",
    "        plt.show"
   ]
  },
  {
   "cell_type": "markdown",
   "id": "0ec5204f-7999-47a8-b204-1e0d82217873",
   "metadata": {},
   "source": [
    "Este codigo genera un grafico de lineas donde se representan la nota de cada alumno en el modulo M02"
   ]
  }
 ],
 "metadata": {
  "kernelspec": {
   "display_name": "Python 3 (ipykernel)",
   "language": "python",
   "name": "python3"
  },
  "language_info": {
   "codemirror_mode": {
    "name": "ipython",
    "version": 3
   },
   "file_extension": ".py",
   "mimetype": "text/x-python",
   "name": "python",
   "nbconvert_exporter": "python",
   "pygments_lexer": "ipython3",
   "version": "3.12.1"
  }
 },
 "nbformat": 4,
 "nbformat_minor": 5
}
